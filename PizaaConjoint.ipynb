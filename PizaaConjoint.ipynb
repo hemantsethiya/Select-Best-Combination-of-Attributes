{
 "cells": [
  {
   "cell_type": "markdown",
   "metadata": {},
   "source": [
    "# Conjoint Analysis -"
   ]
  },
  {
   "cell_type": "markdown",
   "metadata": {},
   "source": [
    "####  It is a survey based statistical technique used in market research that helps to determine how people value different \n",
    "#### attributes ( price , quality , brand etc. ) that make up an individual product or services.\n",
    "#### It helps an organization to understand customer preference from this they can change their attributes from the product\n",
    "#### and grow fast."
   ]
  },
  {
   "cell_type": "code",
   "execution_count": null,
   "metadata": {},
   "outputs": [],
   "source": []
  },
  {
   "cell_type": "markdown",
   "metadata": {},
   "source": [
    "#### Import Dataset -"
   ]
  },
  {
   "cell_type": "code",
   "execution_count": 19,
   "metadata": {},
   "outputs": [
    {
     "data": {
      "text/html": [
       "<div>\n",
       "<style scoped>\n",
       "    .dataframe tbody tr th:only-of-type {\n",
       "        vertical-align: middle;\n",
       "    }\n",
       "\n",
       "    .dataframe tbody tr th {\n",
       "        vertical-align: top;\n",
       "    }\n",
       "\n",
       "    .dataframe thead th {\n",
       "        text-align: right;\n",
       "    }\n",
       "</style>\n",
       "<table border=\"1\" class=\"dataframe\">\n",
       "  <thead>\n",
       "    <tr style=\"text-align: right;\">\n",
       "      <th></th>\n",
       "      <th>Rating</th>\n",
       "      <th>Flavour</th>\n",
       "      <th>Size</th>\n",
       "      <th>Price</th>\n",
       "      <th>Brand</th>\n",
       "      <th>Toppings</th>\n",
       "      <th>Healthiness</th>\n",
       "    </tr>\n",
       "  </thead>\n",
       "  <tbody>\n",
       "    <tr>\n",
       "      <th>0</th>\n",
       "      <td>3</td>\n",
       "      <td>Cheese and Corn</td>\n",
       "      <td>Small</td>\n",
       "      <td>Rs.165</td>\n",
       "      <td>Domino's</td>\n",
       "      <td>Sausage</td>\n",
       "      <td>Less Fat</td>\n",
       "    </tr>\n",
       "    <tr>\n",
       "      <th>1</th>\n",
       "      <td>2</td>\n",
       "      <td>Margherita</td>\n",
       "      <td>Medium</td>\n",
       "      <td>Rs.199</td>\n",
       "      <td>Pizza Hut</td>\n",
       "      <td>Extra Cheese</td>\n",
       "      <td>Normal Fat</td>\n",
       "    </tr>\n",
       "    <tr>\n",
       "      <th>2</th>\n",
       "      <td>2</td>\n",
       "      <td>Peppy Paneer</td>\n",
       "      <td>Large</td>\n",
       "      <td>Rs.395</td>\n",
       "      <td>Chicago</td>\n",
       "      <td>Extra Paneer</td>\n",
       "      <td>Normal Fat</td>\n",
       "    </tr>\n",
       "    <tr>\n",
       "      <th>3</th>\n",
       "      <td>4</td>\n",
       "      <td>Farm House</td>\n",
       "      <td>Extra Large</td>\n",
       "      <td>Rs.595</td>\n",
       "      <td>La pinoz</td>\n",
       "      <td>Mushrooms</td>\n",
       "      <td>Extra Fat</td>\n",
       "    </tr>\n",
       "    <tr>\n",
       "      <th>4</th>\n",
       "      <td>1</td>\n",
       "      <td>Margherita</td>\n",
       "      <td>Small</td>\n",
       "      <td>Rs.165</td>\n",
       "      <td>Domino's</td>\n",
       "      <td>Sausage</td>\n",
       "      <td>Less Fat</td>\n",
       "    </tr>\n",
       "  </tbody>\n",
       "</table>\n",
       "</div>"
      ],
      "text/plain": [
       "   Rating          Flavour         Size   Price      Brand      Toppings  \\\n",
       "0       3  Cheese and Corn        Small  Rs.165   Domino's       Sausage   \n",
       "1       2       Margherita       Medium  Rs.199  Pizza Hut  Extra Cheese   \n",
       "2       2     Peppy Paneer        Large  Rs.395    Chicago  Extra Paneer   \n",
       "3       4       Farm House  Extra Large  Rs.595   La pinoz     Mushrooms   \n",
       "4       1       Margherita        Small  Rs.165   Domino's       Sausage   \n",
       "\n",
       "  Healthiness  \n",
       "0    Less Fat  \n",
       "1  Normal Fat  \n",
       "2  Normal Fat  \n",
       "3   Extra Fat  \n",
       "4    Less Fat  "
      ]
     },
     "execution_count": 19,
     "metadata": {},
     "output_type": "execute_result"
    }
   ],
   "source": [
    "\n",
    "import pandas as pd\n",
    "data = pd.read_excel(\"C:\\\\Users\\\\hemant\\\\Downloads\\\\Pizza data.xlsx\")\n",
    "data.head()\n"
   ]
  },
  {
   "cell_type": "code",
   "execution_count": 6,
   "metadata": {},
   "outputs": [
    {
     "data": {
      "text/plain": [
       "(20, 7)"
      ]
     },
     "execution_count": 6,
     "metadata": {},
     "output_type": "execute_result"
    }
   ],
   "source": [
    "# check the shape of data --\n",
    "\n",
    "data.shape"
   ]
  },
  {
   "cell_type": "code",
   "execution_count": 20,
   "metadata": {},
   "outputs": [
    {
     "data": {
      "text/plain": [
       "Rating          int64\n",
       "Flavour        object\n",
       "Size           object\n",
       "Price          object\n",
       "Brand          object\n",
       "Toppings       object\n",
       "Healthiness    object\n",
       "dtype: object"
      ]
     },
     "execution_count": 20,
     "metadata": {},
     "output_type": "execute_result"
    }
   ],
   "source": [
    "# also check data type -\n",
    "\n",
    "data.dtypes"
   ]
  },
  {
   "cell_type": "markdown",
   "metadata": {},
   "source": [
    "### Now we check unique values and count of the particular attribue that helps us to understand data properly -"
   ]
  },
  {
   "cell_type": "code",
   "execution_count": 9,
   "metadata": {},
   "outputs": [
    {
     "name": "stdout",
     "output_type": "stream",
     "text": [
      "Category Count :  6\n",
      "Category unique values :  [3 2 4 1 5 6]\n"
     ]
    }
   ],
   "source": [
    "#1- \n",
    "\n",
    "print(\"Category Count : \", data.Rating.nunique())\n",
    "print(\"Category unique values : \", data.Rating.unique())\n"
   ]
  },
  {
   "cell_type": "code",
   "execution_count": 10,
   "metadata": {},
   "outputs": [
    {
     "name": "stdout",
     "output_type": "stream",
     "text": [
      "Category Count :  4\n",
      "Category unique values :  ['Cheese and Corn' 'Margherita' 'Peppy Paneer' 'Farm House']\n"
     ]
    }
   ],
   "source": [
    "#2- \n",
    "\n",
    "print(\"Category Count : \", data.Flavour.nunique())\n",
    "print(\"Category unique values : \", data.Flavour.unique())\n"
   ]
  },
  {
   "cell_type": "code",
   "execution_count": 11,
   "metadata": {},
   "outputs": [
    {
     "name": "stdout",
     "output_type": "stream",
     "text": [
      "Category Count :  4\n",
      "Category unique values :  ['Small' 'Medium' 'Large' 'Extra Large']\n"
     ]
    }
   ],
   "source": [
    "#3- \n",
    "\n",
    "print(\"Category Count : \", data.Size.nunique())\n",
    "print(\"Category unique values : \", data.Size.unique())\n"
   ]
  },
  {
   "cell_type": "code",
   "execution_count": 21,
   "metadata": {},
   "outputs": [
    {
     "name": "stdout",
     "output_type": "stream",
     "text": [
      "Category Count :  4\n",
      "Category unique values :  ['Rs.165' 'Rs.199' 'Rs.395' 'Rs.595']\n"
     ]
    }
   ],
   "source": [
    "#4- \n",
    "\n",
    "print(\"Category Count : \", data.Price.nunique())\n",
    "print(\"Category unique values : \", data.Price.unique())\n"
   ]
  },
  {
   "cell_type": "code",
   "execution_count": 13,
   "metadata": {},
   "outputs": [
    {
     "name": "stdout",
     "output_type": "stream",
     "text": [
      "Category Count :  4\n",
      "Category unique values :  ['Sausage' 'Extra Cheese' 'Extra Paneer' 'Mushrooms']\n"
     ]
    }
   ],
   "source": [
    "#5- \n",
    "\n",
    "print(\"Category Count : \", data.Toppings.nunique())\n",
    "print(\"Category unique values : \", data.Toppings.unique())\n"
   ]
  },
  {
   "cell_type": "code",
   "execution_count": 14,
   "metadata": {},
   "outputs": [
    {
     "name": "stdout",
     "output_type": "stream",
     "text": [
      "Category Count :  4\n",
      "Category unique values :  [\"Domino's\" 'Pizza Hut' 'Chicago' 'La pinoz']\n"
     ]
    }
   ],
   "source": [
    "#6- \n",
    "\n",
    "print(\"Category Count : \", data.Brand.nunique())\n",
    "print(\"Category unique values : \", data.Brand.unique())\n"
   ]
  },
  {
   "cell_type": "code",
   "execution_count": 16,
   "metadata": {},
   "outputs": [
    {
     "name": "stdout",
     "output_type": "stream",
     "text": [
      "Category Count :  3\n",
      "Category unique values :  ['Less Fat' 'Normal Fat' 'Extra Fat']\n"
     ]
    }
   ],
   "source": [
    "#7- \n",
    "\n",
    "print(\"Category Count : \", data.Healthiness.nunique())\n",
    "print(\"Category unique values : \", data.Healthiness.unique())\n"
   ]
  },
  {
   "cell_type": "markdown",
   "metadata": {},
   "source": [
    "### Now as we see we have categorical attributes so first we convert it into integer for this we use dummy function --"
   ]
  },
  {
   "cell_type": "code",
   "execution_count": 36,
   "metadata": {},
   "outputs": [],
   "source": [
    "# get dummy ( pandas function )  -\n",
    "\n",
    "newdata = pd.get_dummies(data)"
   ]
  },
  {
   "cell_type": "code",
   "execution_count": 37,
   "metadata": {},
   "outputs": [
    {
     "data": {
      "text/html": [
       "<div>\n",
       "<style scoped>\n",
       "    .dataframe tbody tr th:only-of-type {\n",
       "        vertical-align: middle;\n",
       "    }\n",
       "\n",
       "    .dataframe tbody tr th {\n",
       "        vertical-align: top;\n",
       "    }\n",
       "\n",
       "    .dataframe thead th {\n",
       "        text-align: right;\n",
       "    }\n",
       "</style>\n",
       "<table border=\"1\" class=\"dataframe\">\n",
       "  <thead>\n",
       "    <tr style=\"text-align: right;\">\n",
       "      <th></th>\n",
       "      <th>Rating</th>\n",
       "      <th>Flavour_Cheese and Corn</th>\n",
       "      <th>Flavour_Farm House</th>\n",
       "      <th>Flavour_Margherita</th>\n",
       "      <th>Flavour_Peppy Paneer</th>\n",
       "      <th>Size_Extra Large</th>\n",
       "      <th>Size_Large</th>\n",
       "      <th>Size_Medium</th>\n",
       "      <th>Size_Small</th>\n",
       "      <th>Price_Rs.165</th>\n",
       "      <th>...</th>\n",
       "      <th>Brand_Domino's</th>\n",
       "      <th>Brand_La pinoz</th>\n",
       "      <th>Brand_Pizza Hut</th>\n",
       "      <th>Toppings_Extra Cheese</th>\n",
       "      <th>Toppings_Extra Paneer</th>\n",
       "      <th>Toppings_Mushrooms</th>\n",
       "      <th>Toppings_Sausage</th>\n",
       "      <th>Healthiness_Extra Fat</th>\n",
       "      <th>Healthiness_Less Fat</th>\n",
       "      <th>Healthiness_Normal Fat</th>\n",
       "    </tr>\n",
       "  </thead>\n",
       "  <tbody>\n",
       "    <tr>\n",
       "      <th>0</th>\n",
       "      <td>3</td>\n",
       "      <td>1</td>\n",
       "      <td>0</td>\n",
       "      <td>0</td>\n",
       "      <td>0</td>\n",
       "      <td>0</td>\n",
       "      <td>0</td>\n",
       "      <td>0</td>\n",
       "      <td>1</td>\n",
       "      <td>1</td>\n",
       "      <td>...</td>\n",
       "      <td>1</td>\n",
       "      <td>0</td>\n",
       "      <td>0</td>\n",
       "      <td>0</td>\n",
       "      <td>0</td>\n",
       "      <td>0</td>\n",
       "      <td>1</td>\n",
       "      <td>0</td>\n",
       "      <td>1</td>\n",
       "      <td>0</td>\n",
       "    </tr>\n",
       "    <tr>\n",
       "      <th>1</th>\n",
       "      <td>2</td>\n",
       "      <td>0</td>\n",
       "      <td>0</td>\n",
       "      <td>1</td>\n",
       "      <td>0</td>\n",
       "      <td>0</td>\n",
       "      <td>0</td>\n",
       "      <td>1</td>\n",
       "      <td>0</td>\n",
       "      <td>0</td>\n",
       "      <td>...</td>\n",
       "      <td>0</td>\n",
       "      <td>0</td>\n",
       "      <td>1</td>\n",
       "      <td>1</td>\n",
       "      <td>0</td>\n",
       "      <td>0</td>\n",
       "      <td>0</td>\n",
       "      <td>0</td>\n",
       "      <td>0</td>\n",
       "      <td>1</td>\n",
       "    </tr>\n",
       "    <tr>\n",
       "      <th>2</th>\n",
       "      <td>2</td>\n",
       "      <td>0</td>\n",
       "      <td>0</td>\n",
       "      <td>0</td>\n",
       "      <td>1</td>\n",
       "      <td>0</td>\n",
       "      <td>1</td>\n",
       "      <td>0</td>\n",
       "      <td>0</td>\n",
       "      <td>0</td>\n",
       "      <td>...</td>\n",
       "      <td>0</td>\n",
       "      <td>0</td>\n",
       "      <td>0</td>\n",
       "      <td>0</td>\n",
       "      <td>1</td>\n",
       "      <td>0</td>\n",
       "      <td>0</td>\n",
       "      <td>0</td>\n",
       "      <td>0</td>\n",
       "      <td>1</td>\n",
       "    </tr>\n",
       "    <tr>\n",
       "      <th>3</th>\n",
       "      <td>4</td>\n",
       "      <td>0</td>\n",
       "      <td>1</td>\n",
       "      <td>0</td>\n",
       "      <td>0</td>\n",
       "      <td>1</td>\n",
       "      <td>0</td>\n",
       "      <td>0</td>\n",
       "      <td>0</td>\n",
       "      <td>0</td>\n",
       "      <td>...</td>\n",
       "      <td>0</td>\n",
       "      <td>1</td>\n",
       "      <td>0</td>\n",
       "      <td>0</td>\n",
       "      <td>0</td>\n",
       "      <td>1</td>\n",
       "      <td>0</td>\n",
       "      <td>1</td>\n",
       "      <td>0</td>\n",
       "      <td>0</td>\n",
       "    </tr>\n",
       "    <tr>\n",
       "      <th>4</th>\n",
       "      <td>1</td>\n",
       "      <td>0</td>\n",
       "      <td>0</td>\n",
       "      <td>1</td>\n",
       "      <td>0</td>\n",
       "      <td>0</td>\n",
       "      <td>0</td>\n",
       "      <td>0</td>\n",
       "      <td>1</td>\n",
       "      <td>1</td>\n",
       "      <td>...</td>\n",
       "      <td>1</td>\n",
       "      <td>0</td>\n",
       "      <td>0</td>\n",
       "      <td>0</td>\n",
       "      <td>0</td>\n",
       "      <td>0</td>\n",
       "      <td>1</td>\n",
       "      <td>0</td>\n",
       "      <td>1</td>\n",
       "      <td>0</td>\n",
       "    </tr>\n",
       "  </tbody>\n",
       "</table>\n",
       "<p>5 rows × 24 columns</p>\n",
       "</div>"
      ],
      "text/plain": [
       "   Rating  Flavour_Cheese and Corn  Flavour_Farm House  Flavour_Margherita  \\\n",
       "0       3                        1                   0                   0   \n",
       "1       2                        0                   0                   1   \n",
       "2       2                        0                   0                   0   \n",
       "3       4                        0                   1                   0   \n",
       "4       1                        0                   0                   1   \n",
       "\n",
       "   Flavour_Peppy Paneer  Size_Extra Large  Size_Large  Size_Medium  \\\n",
       "0                     0                 0           0            0   \n",
       "1                     0                 0           0            1   \n",
       "2                     1                 0           1            0   \n",
       "3                     0                 1           0            0   \n",
       "4                     0                 0           0            0   \n",
       "\n",
       "   Size_Small  Price_Rs.165  ...  Brand_Domino's  Brand_La pinoz  \\\n",
       "0           1             1  ...               1               0   \n",
       "1           0             0  ...               0               0   \n",
       "2           0             0  ...               0               0   \n",
       "3           0             0  ...               0               1   \n",
       "4           1             1  ...               1               0   \n",
       "\n",
       "   Brand_Pizza Hut  Toppings_Extra Cheese  Toppings_Extra Paneer  \\\n",
       "0                0                      0                      0   \n",
       "1                1                      1                      0   \n",
       "2                0                      0                      1   \n",
       "3                0                      0                      0   \n",
       "4                0                      0                      0   \n",
       "\n",
       "   Toppings_Mushrooms  Toppings_Sausage  Healthiness_Extra Fat  \\\n",
       "0                   0                 1                      0   \n",
       "1                   0                 0                      0   \n",
       "2                   0                 0                      0   \n",
       "3                   1                 0                      1   \n",
       "4                   0                 1                      0   \n",
       "\n",
       "   Healthiness_Less Fat  Healthiness_Normal Fat  \n",
       "0                     1                       0  \n",
       "1                     0                       1  \n",
       "2                     0                       1  \n",
       "3                     0                       0  \n",
       "4                     1                       0  \n",
       "\n",
       "[5 rows x 24 columns]"
      ]
     },
     "execution_count": 37,
     "metadata": {},
     "output_type": "execute_result"
    }
   ],
   "source": [
    "newdata.head()"
   ]
  },
  {
   "cell_type": "code",
   "execution_count": 38,
   "metadata": {},
   "outputs": [
    {
     "data": {
      "text/plain": [
       "(20, 24)"
      ]
     },
     "execution_count": 38,
     "metadata": {},
     "output_type": "execute_result"
    }
   ],
   "source": [
    "newdata.shape"
   ]
  },
  {
   "cell_type": "markdown",
   "metadata": {},
   "source": [
    "### It is important to create one reference variable for each category and delete the reference variable from the data it helps decrease column number."
   ]
  },
  {
   "cell_type": "code",
   "execution_count": 39,
   "metadata": {},
   "outputs": [
    {
     "data": {
      "text/plain": [
       "Index(['Rating', 'Flavour_Cheese and Corn', 'Flavour_Farm House',\n",
       "       'Flavour_Margherita', 'Flavour_Peppy Paneer', 'Size_Extra Large',\n",
       "       'Size_Large', 'Size_Medium', 'Size_Small', 'Price_Rs.165',\n",
       "       'Price_Rs.199', 'Price_Rs.395', 'Price_Rs.595', 'Brand_Chicago',\n",
       "       'Brand_Domino's', 'Brand_La pinoz', 'Brand_Pizza Hut',\n",
       "       'Toppings_Extra Cheese', 'Toppings_Extra Paneer', 'Toppings_Mushrooms',\n",
       "       'Toppings_Sausage', 'Healthiness_Extra Fat', 'Healthiness_Less Fat',\n",
       "       'Healthiness_Normal Fat'],\n",
       "      dtype='object')"
      ]
     },
     "execution_count": 39,
     "metadata": {},
     "output_type": "execute_result"
    }
   ],
   "source": [
    "newdata.columns"
   ]
  },
  {
   "cell_type": "code",
   "execution_count": 40,
   "metadata": {},
   "outputs": [],
   "source": [
    "# split dependent variable from the dataset  --\n",
    "\n",
    "y = newdata['Rating']\n"
   ]
  },
  {
   "cell_type": "code",
   "execution_count": 43,
   "metadata": {},
   "outputs": [],
   "source": [
    "# now we create a list of those column which we does not required --\n",
    "\n",
    "cols = ['Rating', 'Flavour_Cheese and Corn', 'Size_Extra Large', 'Price_Rs.165', 'Brand_Chicago', 'Toppings_Extra Cheese',\n",
    "       'Healthiness_Extra Fat']\n"
   ]
  },
  {
   "cell_type": "code",
   "execution_count": 44,
   "metadata": {},
   "outputs": [],
   "source": [
    "# now we drop columns --\n",
    "\n",
    "newdata.drop(labels = cols, axis = 1, inplace = True)\n"
   ]
  },
  {
   "cell_type": "code",
   "execution_count": 45,
   "metadata": {},
   "outputs": [
    {
     "data": {
      "text/plain": [
       "(20, 17)"
      ]
     },
     "execution_count": 45,
     "metadata": {},
     "output_type": "execute_result"
    }
   ],
   "source": [
    "newdata.shape"
   ]
  },
  {
   "cell_type": "markdown",
   "metadata": {},
   "source": [
    "#### Now, on the combination of this attributes we apply OLS ( ordinary least square ) regression and from which we get Beta Coefficient and from this we find Utility and from this we find Range and from all of these at the end we find Importance, means which combination got high importance which we can select."
   ]
  },
  {
   "cell_type": "code",
   "execution_count": 46,
   "metadata": {},
   "outputs": [
    {
     "data": {
      "text/html": [
       "<table class=\"simpletable\">\n",
       "<caption>OLS Regression Results</caption>\n",
       "<tr>\n",
       "  <th>Dep. Variable:</th>         <td>Rating</td>      <th>  R-squared (uncentered):</th>      <td>   0.975</td>\n",
       "</tr>\n",
       "<tr>\n",
       "  <th>Model:</th>                   <td>OLS</td>       <th>  Adj. R-squared (uncentered):</th> <td>   0.835</td>\n",
       "</tr>\n",
       "<tr>\n",
       "  <th>Method:</th>             <td>Least Squares</td>  <th>  F-statistic:       </th>          <td>   6.960</td>\n",
       "</tr>\n",
       "<tr>\n",
       "  <th>Date:</th>             <td>Fri, 15 Jan 2021</td> <th>  Prob (F-statistic):</th>           <td>0.0677</td> \n",
       "</tr>\n",
       "<tr>\n",
       "  <th>Time:</th>                 <td>15:09:04</td>     <th>  Log-Likelihood:    </th>          <td> -18.191</td>\n",
       "</tr>\n",
       "<tr>\n",
       "  <th>No. Observations:</th>      <td>    20</td>      <th>  AIC:               </th>          <td>   70.38</td>\n",
       "</tr>\n",
       "<tr>\n",
       "  <th>Df Residuals:</th>          <td>     3</td>      <th>  BIC:               </th>          <td>   87.31</td>\n",
       "</tr>\n",
       "<tr>\n",
       "  <th>Df Model:</th>              <td>    17</td>      <th>                     </th>              <td> </td>   \n",
       "</tr>\n",
       "<tr>\n",
       "  <th>Covariance Type:</th>      <td>nonrobust</td>    <th>                     </th>              <td> </td>   \n",
       "</tr>\n",
       "</table>\n",
       "<table class=\"simpletable\">\n",
       "<tr>\n",
       "             <td></td>               <th>coef</th>     <th>std err</th>      <th>t</th>      <th>P>|t|</th>  <th>[0.025</th>    <th>0.975]</th>  \n",
       "</tr>\n",
       "<tr>\n",
       "  <th>Flavour_Farm House</th>     <td>   -0.6026</td> <td>    3.082</td> <td>   -0.195</td> <td> 0.858</td> <td>  -10.412</td> <td>    9.207</td>\n",
       "</tr>\n",
       "<tr>\n",
       "  <th>Flavour_Margherita</th>     <td>   -1.6460</td> <td>    1.619</td> <td>   -1.017</td> <td> 0.384</td> <td>   -6.797</td> <td>    3.505</td>\n",
       "</tr>\n",
       "<tr>\n",
       "  <th>Flavour_Peppy Paneer</th>   <td>   -2.0137</td> <td>    3.722</td> <td>   -0.541</td> <td> 0.626</td> <td>  -13.857</td> <td>    9.830</td>\n",
       "</tr>\n",
       "<tr>\n",
       "  <th>Size_Large</th>             <td>    2.6766</td> <td>    2.644</td> <td>    1.012</td> <td> 0.386</td> <td>   -5.739</td> <td>   11.092</td>\n",
       "</tr>\n",
       "<tr>\n",
       "  <th>Size_Medium</th>            <td>    3.7812</td> <td>    4.158</td> <td>    0.909</td> <td> 0.430</td> <td>   -9.452</td> <td>   17.015</td>\n",
       "</tr>\n",
       "<tr>\n",
       "  <th>Size_Small</th>             <td>    3.3170</td> <td>    3.024</td> <td>    1.097</td> <td> 0.353</td> <td>   -6.307</td> <td>   12.941</td>\n",
       "</tr>\n",
       "<tr>\n",
       "  <th>Price_Rs.199</th>           <td>    1.6171</td> <td>    3.680</td> <td>    0.439</td> <td> 0.690</td> <td>  -10.094</td> <td>   13.328</td>\n",
       "</tr>\n",
       "<tr>\n",
       "  <th>Price_Rs.395</th>           <td>    3.3693</td> <td>    2.260</td> <td>    1.491</td> <td> 0.233</td> <td>   -3.823</td> <td>   10.562</td>\n",
       "</tr>\n",
       "<tr>\n",
       "  <th>Price_Rs.595</th>           <td>    2.0628</td> <td>    3.328</td> <td>    0.620</td> <td> 0.579</td> <td>   -8.529</td> <td>   12.655</td>\n",
       "</tr>\n",
       "<tr>\n",
       "  <th>Brand_Domino's</th>         <td>    1.2043</td> <td>    3.086</td> <td>    0.390</td> <td> 0.722</td> <td>   -8.616</td> <td>   11.025</td>\n",
       "</tr>\n",
       "<tr>\n",
       "  <th>Brand_La pinoz</th>         <td>    4.3813</td> <td>    2.660</td> <td>    1.647</td> <td> 0.198</td> <td>   -4.083</td> <td>   12.845</td>\n",
       "</tr>\n",
       "<tr>\n",
       "  <th>Brand_Pizza Hut</th>        <td>    0.3395</td> <td>    3.052</td> <td>    0.111</td> <td> 0.918</td> <td>   -9.375</td> <td>   10.054</td>\n",
       "</tr>\n",
       "<tr>\n",
       "  <th>Toppings_Extra Paneer</th>  <td>   -0.3387</td> <td>    2.203</td> <td>   -0.154</td> <td> 0.888</td> <td>   -7.349</td> <td>    6.672</td>\n",
       "</tr>\n",
       "<tr>\n",
       "  <th>Toppings_Mushrooms</th>     <td>   -0.7957</td> <td>    4.376</td> <td>   -0.182</td> <td> 0.867</td> <td>  -14.722</td> <td>   13.131</td>\n",
       "</tr>\n",
       "<tr>\n",
       "  <th>Toppings_Sausage</th>       <td>   -1.2405</td> <td>    2.782</td> <td>   -0.446</td> <td> 0.686</td> <td>  -10.094</td> <td>    7.613</td>\n",
       "</tr>\n",
       "<tr>\n",
       "  <th>Healthiness_Less Fat</th>   <td>   -0.0314</td> <td>    2.861</td> <td>   -0.011</td> <td> 0.992</td> <td>   -9.136</td> <td>    9.073</td>\n",
       "</tr>\n",
       "<tr>\n",
       "  <th>Healthiness_Normal Fat</th> <td>   -1.0459</td> <td>    2.097</td> <td>   -0.499</td> <td> 0.652</td> <td>   -7.718</td> <td>    5.626</td>\n",
       "</tr>\n",
       "</table>\n",
       "<table class=\"simpletable\">\n",
       "<tr>\n",
       "  <th>Omnibus:</th>       <td> 0.597</td> <th>  Durbin-Watson:     </th> <td>   0.506</td>\n",
       "</tr>\n",
       "<tr>\n",
       "  <th>Prob(Omnibus):</th> <td> 0.742</td> <th>  Jarque-Bera (JB):  </th> <td>   0.613</td>\n",
       "</tr>\n",
       "<tr>\n",
       "  <th>Skew:</th>          <td>-0.072</td> <th>  Prob(JB):          </th> <td>   0.736</td>\n",
       "</tr>\n",
       "<tr>\n",
       "  <th>Kurtosis:</th>      <td> 2.154</td> <th>  Cond. No.          </th> <td>    28.4</td>\n",
       "</tr>\n",
       "</table><br/><br/>Warnings:<br/>[1] Standard Errors assume that the covariance matrix of the errors is correctly specified."
      ],
      "text/plain": [
       "<class 'statsmodels.iolib.summary.Summary'>\n",
       "\"\"\"\n",
       "                                 OLS Regression Results                                \n",
       "=======================================================================================\n",
       "Dep. Variable:                 Rating   R-squared (uncentered):                   0.975\n",
       "Model:                            OLS   Adj. R-squared (uncentered):              0.835\n",
       "Method:                 Least Squares   F-statistic:                              6.960\n",
       "Date:                Fri, 15 Jan 2021   Prob (F-statistic):                      0.0677\n",
       "Time:                        15:09:04   Log-Likelihood:                         -18.191\n",
       "No. Observations:                  20   AIC:                                      70.38\n",
       "Df Residuals:                       3   BIC:                                      87.31\n",
       "Df Model:                          17                                                  \n",
       "Covariance Type:            nonrobust                                                  \n",
       "==========================================================================================\n",
       "                             coef    std err          t      P>|t|      [0.025      0.975]\n",
       "------------------------------------------------------------------------------------------\n",
       "Flavour_Farm House        -0.6026      3.082     -0.195      0.858     -10.412       9.207\n",
       "Flavour_Margherita        -1.6460      1.619     -1.017      0.384      -6.797       3.505\n",
       "Flavour_Peppy Paneer      -2.0137      3.722     -0.541      0.626     -13.857       9.830\n",
       "Size_Large                 2.6766      2.644      1.012      0.386      -5.739      11.092\n",
       "Size_Medium                3.7812      4.158      0.909      0.430      -9.452      17.015\n",
       "Size_Small                 3.3170      3.024      1.097      0.353      -6.307      12.941\n",
       "Price_Rs.199               1.6171      3.680      0.439      0.690     -10.094      13.328\n",
       "Price_Rs.395               3.3693      2.260      1.491      0.233      -3.823      10.562\n",
       "Price_Rs.595               2.0628      3.328      0.620      0.579      -8.529      12.655\n",
       "Brand_Domino's             1.2043      3.086      0.390      0.722      -8.616      11.025\n",
       "Brand_La pinoz             4.3813      2.660      1.647      0.198      -4.083      12.845\n",
       "Brand_Pizza Hut            0.3395      3.052      0.111      0.918      -9.375      10.054\n",
       "Toppings_Extra Paneer     -0.3387      2.203     -0.154      0.888      -7.349       6.672\n",
       "Toppings_Mushrooms        -0.7957      4.376     -0.182      0.867     -14.722      13.131\n",
       "Toppings_Sausage          -1.2405      2.782     -0.446      0.686     -10.094       7.613\n",
       "Healthiness_Less Fat      -0.0314      2.861     -0.011      0.992      -9.136       9.073\n",
       "Healthiness_Normal Fat    -1.0459      2.097     -0.499      0.652      -7.718       5.626\n",
       "==============================================================================\n",
       "Omnibus:                        0.597   Durbin-Watson:                   0.506\n",
       "Prob(Omnibus):                  0.742   Jarque-Bera (JB):                0.613\n",
       "Skew:                          -0.072   Prob(JB):                        0.736\n",
       "Kurtosis:                       2.154   Cond. No.                         28.4\n",
       "==============================================================================\n",
       "\n",
       "Warnings:\n",
       "[1] Standard Errors assume that the covariance matrix of the errors is correctly specified.\n",
       "\"\"\""
      ]
     },
     "execution_count": 46,
     "metadata": {},
     "output_type": "execute_result"
    }
   ],
   "source": [
    "# finf ols  --\n",
    "\n",
    "\n",
    "import statsmodels.api as sm\n",
    "\n",
    "model = sm.OLS(y, newdata).fit()\n",
    "\n",
    "model.summary()\n"
   ]
  },
  {
   "cell_type": "markdown",
   "metadata": {},
   "source": [
    "### From this we got Beta Coefficient and now I did further process in Excel."
   ]
  },
  {
   "cell_type": "code",
   "execution_count": null,
   "metadata": {},
   "outputs": [],
   "source": []
  }
 ],
 "metadata": {
  "kernelspec": {
   "display_name": "Python 3",
   "language": "python",
   "name": "python3"
  },
  "language_info": {
   "codemirror_mode": {
    "name": "ipython",
    "version": 3
   },
   "file_extension": ".py",
   "mimetype": "text/x-python",
   "name": "python",
   "nbconvert_exporter": "python",
   "pygments_lexer": "ipython3",
   "version": "3.7.6"
  }
 },
 "nbformat": 4,
 "nbformat_minor": 4
}
